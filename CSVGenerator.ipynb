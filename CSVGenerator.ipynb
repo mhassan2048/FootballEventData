{
 "cells": [
  {
   "cell_type": "code",
   "execution_count": null,
   "id": "bb96bd82-46cd-46a9-8dbf-c66dc60c6c29",
   "metadata": {},
   "outputs": [],
   "source": [
    "# Importing necessary libraries: soccerdata for football data and os for system operations\n",
    "import soccerdata as sd\n",
    "import os\n",
    "\n",
    "# Setting up a proxy using the WhoScored class from the soccerdata library.\n",
    "# Initially, a Tor proxy is set up.\n",
    "ws = sd.WhoScored(proxy='tor')\n",
    "\n",
    "# Updating the proxy configuration to use a SOCKS5 proxy.\n",
    "# Redirecting both HTTP and HTTPS traffic through a local server on port 9150.\n",
    "ws = sd.WhoScored(proxy={\n",
    "     \"http\": \"socks5://127.0.0.1:9150\",\n",
    "     \"https\": \"socks5://127.0.0.1:9150\",\n",
    "})\n",
    "\n",
    "# Defining string constants for various football leagues and season identifier.\n",
    "LaLiga = \"ESP-La Liga\"\n",
    "PL = \"ENG-Premier League\"\n",
    "UCL = \"EUR-Champions League\"\n",
    "Por = \"POR-Liga Portugal\"\n",
    "Bra = \"BRA-Brasileirão\"\n",
    "SeasonID = \"23-24\"\n",
    "parsed_folder = '20'+SeasonID+'_LaLiga'\n",
    "\n",
    "# Creating a directory for parsed data, if it doesn't already exist.\n",
    "# This prevents errors if the directory is already present.\n",
    "if not os.path.exists(parsed_folder):\n",
    "    os.mkdir(parsed_folder)\n",
    "\n",
    "# Initializing the WhoScored class with specific parameters (league and season).\n",
    "# The no_cache flag is set to False, meaning cached data might be used if available.\n",
    "ws = sd.WhoScored(leagues=LaLiga, seasons=SeasonID, no_cache=False)\n",
    "\n",
    "# Listing files from a specific directory, presumably where event data is stored.\n",
    "source = os.listdir('soccerdata/data/WhoScored/events/ESP-La Liga_2324')\n",
    "parsed = os.listdir(parsed_folder)\n",
    "\n",
    "# Filtering the list of parsed files to include only CSV files and the source files to include only JSON files.\n",
    "substring1 = 'csv'\n",
    "substring2 = 'json'\n",
    "parsed = [item for item in parsed if substring1 in item]\n",
    "source = [item for item in source if substring2 in item]\n",
    "\n",
    "# Iterating over the source files and processing each one.\n",
    "for i in range(len(source)):\n",
    "    try:\n",
    "        # Checking if the source file has already been parsed into a CSV.\n",
    "        if source[i][:-5] not in parsed:\n",
    "            # Reading event data from the cache for the specific match and converting it to CSV format.\n",
    "            events = ws.read_events(force_cache=True, match_id=int(source[i][:-5]))\n",
    "            events.to_csv(parsed_folder+'/'+source[i]+'_parsed.csv')\n",
    "    except: \n",
    "        # Incrementing the loop counter in case of an exception.\n",
    "        i = i + 1"
   ]
  }
 ],
 "metadata": {
  "kernelspec": {
   "display_name": "Python 3 (ipykernel)",
   "language": "python",
   "name": "python3"
  },
  "language_info": {
   "codemirror_mode": {
    "name": "ipython",
    "version": 3
   },
   "file_extension": ".py",
   "mimetype": "text/x-python",
   "name": "python",
   "nbconvert_exporter": "python",
   "pygments_lexer": "ipython3",
   "version": "3.11.4"
  }
 },
 "nbformat": 4,
 "nbformat_minor": 5
}
