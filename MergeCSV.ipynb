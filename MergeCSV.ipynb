{
 "cells": [
  {
   "cell_type": "code",
   "execution_count": null,
   "id": "9818c3be-1b09-4d00-b6ee-0b6276afc902",
   "metadata": {},
   "outputs": [],
   "source": [
    "# Importing the necessary libraries: os for file path operations, glob for file pattern matching, and pandas for data handling.\n",
    "import os\n",
    "import glob\n",
    "import pandas as pd\n",
    "\n",
    "# Setting the path to the folder containing the CSV files that need to be merged.\n",
    "path = r'2023-24_LaLiga_Spadl'\n",
    "\n",
    "# Using glob.glob with os.path.join to get a list of all CSV files in the specified folder.\n",
    "# This creates a list of paths to all CSV files in the directory.\n",
    "all_files = glob.glob(os.path.join(path, \"*.csv\"))\n",
    "\n",
    "# Reading the first CSV file in the list to use its header (column names) for consistency.\n",
    "df = pd.read_csv(all_files[0])\n",
    "header = df.columns.tolist()\n",
    "\n",
    "# Combining all CSV files into a single pandas DataFrame.\n",
    "combined_csv = pd.concat([pd.read_csv(f, header=0, names=header) for f in all_files])\n",
    "\n",
    "# Writing the combined DataFrame to a new CSV file.\n",
    "combined_csv.to_csv(\"csv/LaLigaArchive/merged_2324_LaLiga_spadl.csv\", index=False, encoding='utf-8-sig')"
   ]
  }
 ],
 "metadata": {
  "kernelspec": {
   "display_name": "Python 3 (ipykernel)",
   "language": "python",
   "name": "python3"
  },
  "language_info": {
   "codemirror_mode": {
    "name": "ipython",
    "version": 3
   },
   "file_extension": ".py",
   "mimetype": "text/x-python",
   "name": "python",
   "nbconvert_exporter": "python",
   "pygments_lexer": "ipython3",
   "version": "3.11.4"
  }
 },
 "nbformat": 4,
 "nbformat_minor": 5
}
