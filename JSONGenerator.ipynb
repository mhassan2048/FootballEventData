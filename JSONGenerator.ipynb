{
 "cells": [
  {
   "cell_type": "code",
   "execution_count": null,
   "id": "60b262c0-e1ad-44ab-989d-77f196f6ec8b",
   "metadata": {},
   "outputs": [],
   "source": [
    "# Importing the soccerdata library which is used for accessing football (soccer) data.\n",
    "import soccerdata as sd\n",
    "\n",
    "# Setting up a proxy using the WhoScored class from the soccerdata library.\n",
    "# A Tor proxy is initially set up.\n",
    "ws = sd.WhoScored(proxy='tor')\n",
    "\n",
    "# Updating the proxy configuration to use a SOCKS5 proxy.\n",
    "# This proxy redirects both HTTP and HTTPS traffic through a local server on port 9150.\n",
    "ws = sd.WhoScored(proxy={\n",
    "     \"http\": \"socks5://127.0.0.1:9150\",\n",
    "     \"https\": \"socks5://127.0.0.1:9150\",\n",
    " })\n",
    "\n",
    "# Defining string constants for various football leagues.\n",
    "LaLiga = \"ESP-La Liga\"              # Spanish La Liga\n",
    "PL = \"ENG-Premier League\"           # English Premier League\n",
    "UCL = \"EUR-Champions League\"        # UEFA Champions League\n",
    "Por = \"POR-Liga Portugal\"           # Portuguese Liga\n",
    "Bra = \"BRA-Brasileirão\"             # Brazilian Brasileirão\n",
    "\n",
    "# Defining the season for which the data will be fetched.\n",
    "SeasonID = \"23-24\"\n",
    "\n",
    "# Initializing the WhoScored class with specific parameters.\n",
    "# This instance is set to fetch data for the La Liga league for the 2023-2024 season.\n",
    "# The 'no_cache' parameter is set to True to ensure the data is fetched directly rather than from cache.\n",
    "ws = sd.WhoScored(leagues=LaLiga, seasons=SeasonID, no_cache=True)\n",
    "\n",
    "# Creating a data loader for reading event data.\n",
    "# The output format is set to 'loader', which likely refers to a specific data structure or format.\n",
    "loader = ws.read_events(output_fmt='loader')"
   ]
  }
 ],
 "metadata": {
  "kernelspec": {
   "display_name": "Python 3 (ipykernel)",
   "language": "python",
   "name": "python3"
  },
  "language_info": {
   "codemirror_mode": {
    "name": "ipython",
    "version": 3
   },
   "file_extension": ".py",
   "mimetype": "text/x-python",
   "name": "python",
   "nbconvert_exporter": "python",
   "pygments_lexer": "ipython3",
   "version": "3.11.4"
  }
 },
 "nbformat": 4,
 "nbformat_minor": 5
}
